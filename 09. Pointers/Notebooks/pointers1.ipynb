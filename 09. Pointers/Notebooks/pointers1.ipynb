{
 "cells": [
  {
   "cell_type": "markdown",
   "id": "76e9602c",
   "metadata": {},
   "source": [
    "# Basic definition of pointers in C++ and their uses\n",
    "\n",
    "\n",
    "In C++, a pointer is a variable that stores the memory address of another variable. \n",
    "Pointers are used for dynamic memory allocation, efficient array handling, and for passing large structures or objects to functions to avoid copying.\n",
    "\n",
    "Example:\n",
    "int a = 10;\n",
    "int* p = &a; // 'p' is a pointer to 'a'\n",
    "\n",
    "Uses of pointers:\n",
    "- Dynamic memory management (using new and delete)\n",
    "- Efficient array and string manipulation\n",
    "- Implementing data structures like linked lists, trees, etc.\n",
    "- Function arguments for modifying actual values (pass by reference)\n"
   ]
  },
  {
   "cell_type": "markdown",
   "id": "ecf1e62e",
   "metadata": {},
   "source": [
    "# Pointer Basics in C++\n",
    "\n",
    "This program demonstrates the basics of pointers in C++. It covers:\n",
    "- Declaring and initializing pointers for different data types\n",
    "- Printing addresses and values using pointers\n",
    "- Understanding the size of pointers for different types\n"
   ]
  },
  {
   "cell_type": "code",
   "execution_count": 2,
   "id": "972b6918",
   "metadata": {
    "vscode": {
     "languageId": "plaintext"
    }
   },
   "outputs": [
    {
     "name": "stdout",
     "output_type": "stream",
     "text": [
      "Value of a: 5\n",
      "Address of a: 0x7b37c5865030\n",
      "Value of ptr (address of a): 0x7b37c5865030\n",
      "Address of ptr itself: 0x7b37c5865038\n",
      "Value pointed to by ptr (*ptr): 5\n",
      "Size of int pointer (ptr): 8 bytes\n",
      "Size of char pointer (cptr): 8 bytes\n",
      "Size of long pointer (lptr): 8 bytes\n",
      "After reassigning, ptr points to b: 0x7b37c5865064\n",
      "Value pointed to by ptr (*ptr): 5\n",
      "Value of nullPtr: 0\n"
     ]
    }
   ],
   "source": [
    "#include<iostream>\n",
    "using namespace std;\n",
    "\n",
    "    int a = 5;\n",
    "    cout << \"Value of a: \" << a << endl;\n",
    "\n",
    "    int b = a; // Copy value of a to b\n",
    "\n",
    "    // int c = &a; // This would give an error: cannot assign address to int\n",
    "\n",
    "    int* ptr = &a; // Pointer to int, stores address of a\n",
    "\n",
    "    cout << \"Address of a: \" << &a << endl;\n",
    "    cout << \"Value of ptr (address of a): \" << ptr << endl;\n",
    "    cout << \"Address of ptr itself: \" << &ptr << endl;\n",
    "    cout << \"Value pointed to by ptr (*ptr): \" << *ptr << endl;\n",
    "    cout << \"Size of int pointer (ptr): \" << sizeof(ptr) << \" bytes\" << endl;\n",
    "\n",
    "    char ch = 'a';\n",
    "    char* cptr = &ch; // Pointer to char\n",
    "    cout << \"Size of char pointer (cptr): \" << sizeof(cptr) << \" bytes\" << endl;\n",
    "\n",
    "    long l = 1040;\n",
    "    long* lptr = &l; // Pointer to long\n",
    "    cout << \"Size of long pointer (lptr): \" << sizeof(lptr) << \" bytes\" << endl;\n",
    "\n",
    "    // Demonstrate pointer reassignment\n",
    "    ptr = &b; // Now ptr points to b\n",
    "    cout << \"After reassigning, ptr points to b: \" << ptr << endl;\n",
    "    cout << \"Value pointed to by ptr (*ptr): \" << *ptr << endl;\n",
    "\n",
    "    // Null pointer example\n",
    "    int* nullPtr = nullptr;\n",
    "    cout << \"Value of nullPtr: \" << nullPtr << endl;\n"
   ]
  },
  {
   "cell_type": "markdown",
   "id": "23b7c403",
   "metadata": {},
   "source": [
    "# Pointer Copying and Dereferencing in C++\n",
    "\n",
    "This code demonstrates:\n",
    "- Declaring and initializing pointers\n",
    "- Copying pointers (making two pointers point to the same variable)\n",
    "- Printing values, addresses, and dereferenced values\n",
    "- Explaining why dereferencing a non-pointer variable gives an error\n"
   ]
  },
  {
   "cell_type": "code",
   "execution_count": 3,
   "id": "69464b1c",
   "metadata": {
    "vscode": {
     "languageId": "plaintext"
    }
   },
   "outputs": [
    {
     "name": "stdout",
     "output_type": "stream",
     "text": [
      "a: 10\n",
      "&a: 0x7b37c5865080\n",
      "p (address of a): 0x7b37c5865080\n",
      "&p (address of p): 0x7b37c5865088\n",
      "*p (value pointed by p): 10\n",
      "q (address of a): 0x7b37c5865080\n",
      "&q (address of q): 0x7b37c5865090\n",
      "*q (value pointed by q): 10\n"
     ]
    },
    {
     "data": {
      "text/plain": [
       "@0x7b37be9fcca0"
      ]
     },
     "execution_count": 3,
     "metadata": {},
     "output_type": "execute_result"
    }
   ],
   "source": [
    "#include<iostream>\n",
    "using namespace std;\n",
    "\n",
    "        int a = 10; // Declare and initialize an integer variable\n",
    "\n",
    "        int* p = &a; // Pointer p stores the address of a\n",
    "\n",
    "        // Copying pointer: q now also points to a (same as p)\n",
    "        int* q = p;\n",
    "\n",
    "        cout << \"a: \" << a << endl;           // Value of a\n",
    "        cout << \"&a: \" << &a << endl;         // Address of a\n",
    "\n",
    "        // cout << \"*a: \" << *a << endl;      // Error: cannot dereference a non-pointer\n",
    "\n",
    "        cout << \"p (address of a): \" << p << endl;         // Value of p (address of a)\n",
    "        cout << \"&p (address of p): \" << &p << endl;       // Address of pointer variable p\n",
    "        cout << \"*p (value pointed by p): \" << *p << endl; // Value at address stored in p (should be a)\n",
    "\n",
    "        cout << \"q (address of a): \" << q << endl;         // Value of q (should be same as p)\n",
    "        cout << \"&q (address of q): \" << &q << endl;       // Address of pointer variable q\n",
    "        cout << \"*q (value pointed by q): \" << *q << endl; // Value at address stored in q (should be a)\n"
   ]
  },
  {
   "cell_type": "markdown",
   "id": "6bfd45c8",
   "metadata": {},
   "source": [
    "# Pointers with Arrays and Character Arrays in C++\n",
    "\n",
    "This code demonstrates:\n",
    "- Using pointers with integer arrays\n",
    "- Accessing and printing array elements using pointers\n",
    "- Working with character arrays (C-style strings) and pointers\n",
    "- Printing addresses, values, and pointer arithmetic with character arrays\n",
    "- Understanding how pointers interact with character arrays and single characters"
   ]
  },
  {
   "cell_type": "code",
   "execution_count": 4,
   "id": "c69c7d48",
   "metadata": {
    "vscode": {
     "languageId": "plaintext"
    }
   },
   "outputs": [
    {
     "name": "stdout",
     "output_type": "stream",
     "text": [
      "Integer array elements using pointer:\n",
      "*(atr + 0): 10\n",
      "*(atr + 1): 20\n",
      "*(atr + 2): 30\n",
      "*(atr + 3): 40\n",
      "\n",
      "Base address of c: 0x7b37c58650c0\n",
      "ctr (prints string): loveBabbar\n",
      "c (prints string): loveBabbar\n",
      "&c (prints address): 0x7b37c58650c0\n",
      "c[0] (first char): l\n",
      "&ctr (address of pointer ctr): 0x7b37c5865128\n",
      "*c (first char): l\n",
      "*(ctr+3) (4th char): e\n",
      "ctr (prints string): loveBabbar\n",
      "ctr+3 (prints from 4th char): eBabbar\n",
      "\n",
      "Pointer to single char d (may print garbage after 'a'): a\n",
      "\n",
      "Character array 'race': racecar\n",
      "&race (address): 0x7b37c5865140\n",
      "*(race+3) (4th char): e\n",
      "rtpr (prints string): racecar\n",
      "&rtpr (address of pointer rtpr): 0x7b37c58651a8\n",
      "*(rtpr+3) (4th char): e\n",
      "rtpr+2 (prints from 3rd char): cecar\n",
      "*rtpr (first char): r\n",
      "rtpr+4 (prints from 5th char): car\n"
     ]
    }
   ],
   "source": [
    "\n",
    "\n",
    "#include<iostream>\n",
    "using namespace std;\n",
    "\n",
    "    // Pointer with integer arrays\n",
    "    int arr[] = {10, 20, 30, 40};\n",
    "    int *atr = arr; // atr points to the first element of arr\n",
    "\n",
    "    cout << \"Integer array elements using pointer:\" << endl;\n",
    "    for(int i = 0; i < 4; i++) {\n",
    "        cout << \"*(atr + \" << i << \"): \" << *(atr + i) << endl;\n",
    "    }\n",
    "    // arr = arr + 1; // Error: array name is a constant pointer\n",
    "\n",
    "    // Character arrays\n",
    "    char c[100] = \"loveBabbar\";\n",
    "    cout << \"\\nBase address of c: \" << static_cast<void*>(&c) << endl; // Cast to void* to print address\n",
    "    char* ctr = c; // ctr points to the first character of c\n",
    "\n",
    "    cout << \"ctr (prints string): \" << ctr << endl;\n",
    "    cout << \"c (prints string): \" << c << endl;\n",
    "    cout << \"&c (prints address): \" << static_cast<void*>(&c) << endl;\n",
    "    cout << \"c[0] (first char): \" << c[0] << endl;\n",
    "    cout << \"&ctr (address of pointer ctr): \" << &ctr << endl;\n",
    "    cout << \"*c (first char): \" << *c << endl;\n",
    "    cout << \"*(ctr+3) (4th char): \" << *(ctr+3) << endl;\n",
    "    cout << \"ctr (prints string): \" << ctr << endl;\n",
    "    cout << \"ctr+3 (prints from 4th char): \" << ctr+3 << endl;\n",
    "\n",
    "    // Pointer to a single character\n",
    "    char d = 'a';\n",
    "    char *dtr = &d;\n",
    "    cout << \"\\nPointer to single char d (may print garbage after 'a'): \" << dtr << endl;\n",
    "\n",
    "    // Another character array example\n",
    "    char race[100] = \"racecar\";\n",
    "    char* rtpr = &race[0];\n",
    "\n",
    "    cout << \"\\nCharacter array 'race': \" << race << endl;\n",
    "    cout << \"&race (address): \" << static_cast<void*>(&race) << endl;\n",
    "    cout << \"*(race+3) (4th char): \" << *(race+3) << endl;\n",
    "    cout << \"rtpr (prints string): \" << rtpr << endl;\n",
    "    cout << \"&rtpr (address of pointer rtpr): \" << &rtpr << endl;\n",
    "    cout << \"*(rtpr+3) (4th char): \" << *(rtpr+3) << endl;\n",
    "    cout << \"rtpr+2 (prints from 3rd char): \" << rtpr+2 << endl;\n",
    "    cout << \"*rtpr (first char): \" << *rtpr << endl;\n",
    "    cout << \"rtpr+4 (prints from 5th char): \" << rtpr+4 << endl;\n"
   ]
  }
 ],
 "metadata": {
  "kernelspec": {
   "display_name": "C++17",
   "language": "C++17",
   "name": "xcpp17"
  },
  "language_info": {
   "codemirror_mode": "text/x-c++src",
   "file_extension": ".cpp",
   "mimetype": "text/x-c++src",
   "name": "c++",
   "version": "17"
  }
 },
 "nbformat": 4,
 "nbformat_minor": 5
}
