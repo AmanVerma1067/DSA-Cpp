{
 "cells": [
  {
   "cell_type": "markdown",
   "metadata": {},
   "source": [
    "# Pointers and Memory Allocation in C++\n",
    "\n",
    "This notebook demonstrates key concepts of pointers, arrays, vectors, and memory management in C++. Topics covered:\n",
    "\n",
    "- Passing arrays and vectors to functions\n",
    "- Using `sizeof` with pointers and vectors\n",
    "- Stack vs Heap memory allocation\n",
    "- Dynamic memory allocation for 1D and 2D arrays\n",
    "- Proper deallocation of dynamically allocated memory\n",
    "\n",
    "The code snippets are from the \"DSA Supreme 3.0\" course."
   ]
  },
  {
   "cell_type": "code",
   "execution_count": null,
   "metadata": {
    "vscode": {
     "languageId": "c++"
    }
   },
   "outputs": [],
   "source": [
    "#include <iostream>\n",
    "#include <vector>\n",
    "using namespace std;"
   ]
  },
  {
   "cell_type": "markdown",
   "metadata": {},
   "source": [
    "## Passing Arrays and Vectors to Functions\n",
    "\n",
    "Let's see what `sizeof` returns when passing arrays and vectors to functions."
   ]
  },
  {
   "cell_type": "code",
   "execution_count": null,
   "metadata": {
    "vscode": {
     "languageId": "c++"
    }
   },
   "outputs": [],
   "source": [
    "// Function to print size of pointer received (when passing array)\n",
    "void solve(int* ar, int size){\n",
    "    cout << \"Size of pointer parameter (int* ar): \" << sizeof(ar) << endl;\n",
    "}\n",
    "\n",
    "// Function to print size of vector object received\n",
    "void solvev(vector<int> v){\n",
    "    cout << \"Size of vector<int> parameter: \" << sizeof(v) << endl;\n",
    "}"
   ]
  },
  {
   "cell_type": "markdown",
   "metadata": {},
   "source": [
    "## Main Function: Demonstrating Memory Allocation and Usage"
   ]
  },
  {
   "cell_type": "code",
   "execution_count": null,
   "metadata": {
    "vscode": {
     "languageId": "c++"
    }
   },
   "outputs": [],
   "source": [
    "int main() {\n",
    "    // ----- Passing array to function -----\n",
    "    int ar[] = {10, 20, 30, 40, 50};\n",
    "    int size = 5;\n",
    "    solve(ar, size); // Passing array (decays to pointer)\n",
    "\n",
    "    // ----- Passing vector to function -----\n",
    "    vector<int> v;\n",
    "    v.push_back(10);\n",
    "    v.push_back(20);\n",
    "    v.push_back(30);\n",
    "    solvev(v);\n",
    "\n",
    "    // ----- Stack vs Heap memory allocation -----\n",
    "    // Stack allocation\n",
    "    int a = 5;\n",
    "    cout << \"Stack int: \" << a << endl;\n",
    "\n",
    "    // Heap allocation (single int)\n",
    "    int* p = new int;\n",
    "    *p = 5;\n",
    "    cout << \"Heap int: \" << *p << endl;\n",
    "    delete p; // Deallocate single int\n",
    "\n",
    "    // ----- Array allocation on stack and heap -----\n",
    "    // Stack array\n",
    "    int arr[5] = {0};\n",
    "    cout << \"Stack array first 3 values: \" << arr[0] << \" \" << arr[1] << \" \" << arr[2] << endl;\n",
    "\n",
    "    // Heap array\n",
    "    int* brr = new int[5];\n",
    "    cout << \"Heap array first 3 values (uninitialized): \" << brr[0] << \" \" << brr[1] << \" \" << brr[2] << endl;\n",
    "    delete[] brr; // Deallocate array\n",
    "\n",
    "    // ----- 2D Array: Stack and Heap allocation -----\n",
    "    // Stack 2D array\n",
    "    int arr2[2][4] = {\n",
    "        {2, 4, 6, 8},\n",
    "        {1, 2, 3, 4}\n",
    "    };\n",
    "\n",
    "    // Heap 2D array (4 rows, 3 columns)\n",
    "    int** prr = new int*[4];\n",
    "    for (int i = 0; i < 4; i++) {\n",
    "        prr[i] = new int[3]; // Allocate each row\n",
    "    }\n",
    "\n",
    "    // Fill the 2D array from user input\n",
    "    cout << \"Enter 12 integers for 4x3 2D heap array:\" << endl;\n",
    "    for (int i = 0; i < 4; i++) {\n",
    "        for (int j = 0; j < 3; j++) {\n",
    "            cin >> prr[i][j];\n",
    "        }\n",
    "    }\n",
    "\n",
    "    // Print the 2D array\n",
    "    cout << \"2D heap array contents:\" << endl;\n",
    "    for (int i = 0; i < 4; i++) {\n",
    "        for (int j = 0; j < 3; j++) {\n",
    "            cout << prr[i][j] << ' ';\n",
    "        }\n",
    "        cout << endl;\n",
    "    }\n",
    "\n",
    "    // Deallocate 2D array\n",
    "    for (int i = 0; i < 4; i++) {\n",
    "        delete[] prr[i];\n",
    "    }\n",
    "    delete[] prr;\n",
    "\n",
    "    return 0;\n",
    "}"
   ]
  },
  {
   "cell_type": "markdown",
   "metadata": {},
   "source": [
    "**Note**: To execute this notebook, use a Jupyter environment with the C++ kernel (xeus-cling).\n",
    "\n",
    "- The `cin` statement requires user input for the 2D array. You can modify to use hardcoded values if running non-interactively.\n",
    "- All dynamic memory is explicitly deallocated with `delete`/`delete[]` to avoid memory leaks."
   ]
  },
  {
   "cell_type": "markdown",
   "metadata": {},
   "source": []
  }
 ],
 "metadata": {
  "kernelspec": {
   "display_name": "C++17",
   "language": "C++17",
   "name": "xcpp17"
  },
  "language_info": {
   "name": "C++17",
   "version": "17"
  }
 },
 "nbformat": 4,
 "nbformat_minor": 2
}
